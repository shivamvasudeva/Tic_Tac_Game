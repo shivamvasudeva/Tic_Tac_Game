{
 "cells": [
  {
   "cell_type": "markdown",
   "id": "4e635f6a",
   "metadata": {},
   "source": [
    "# TIC TAC "
   ]
  },
  {
   "cell_type": "markdown",
   "id": "149179e4",
   "metadata": {},
   "source": [
    "# Printout Board\n",
    "    \n",
    "            \n",
    "            "
   ]
  },
  {
   "cell_type": "code",
   "execution_count": 1,
   "id": "9e20e823",
   "metadata": {},
   "outputs": [],
   "source": [
    "from IPython.display import clear_output \n",
    "def display_board (board):\n",
    "    clear_output()\n",
    "    print ('_________________')\n",
    "    print (board[7]+ '  |  ' + board[8]+ '  |  ' + board[9]+ '  |  ')\n",
    "    print ('_________________')\n",
    "    print(board[4]+ '  |  ' + board[5]+ '  |  ' + board[6]+ '  |  ')\n",
    "    print ('_________________')\n",
    "    print(board[1]+ '  |  ' + board[2]+ '  |  ' + board[3]+ '  |  ')"
   ]
  },
  {
   "cell_type": "markdown",
   "id": "c8911216",
   "metadata": {},
   "source": [
    "# Function: Take Player Input Assing 'X' 'O'"
   ]
  },
  {
   "cell_type": "code",
   "execution_count": 2,
   "id": "2699c04f",
   "metadata": {},
   "outputs": [],
   "source": [
    "def player_input():\n",
    "    marker=''\n",
    "    while not marker == 'X' or marker == 'O':\n",
    "        marker = input(\"Player 1: Choose X or O: \").upper()\n",
    "        \n",
    "    if marker == 'X':\n",
    "        return ('X', 'O')\n",
    "    else:\n",
    "        return ('O', 'X')\n",
    "        \n",
    "    "
   ]
  },
  {
   "cell_type": "markdown",
   "id": "7aa8f9ff",
   "metadata": {},
   "source": [
    "# Function: Take Board List; Marker; and Index Value [0 to 9]"
   ]
  },
  {
   "cell_type": "code",
   "execution_count": 3,
   "id": "edffd8ba",
   "metadata": {},
   "outputs": [],
   "source": [
    "def place_marker (board, marker, postion):\n",
    "    board[position] = marker"
   ]
  },
  {
   "cell_type": "markdown",
   "id": "778b51ae",
   "metadata": {},
   "source": [
    "# Function: Takes in board and place marker and see if marker has won"
   ]
  },
  {
   "cell_type": "code",
   "execution_count": 4,
   "id": "7b9f89be",
   "metadata": {},
   "outputs": [],
   "source": [
    "def win_check(board, mark):\n",
    "    #Check rows\n",
    "    return ((board[9] ==mark and board[8] == mark and board[7]==mark)or\n",
    "    (board[4] ==mark and board[5] == mark and board[6]==mark)or\n",
    "    (board[1] ==mark and board[2] == mark and board[3]==mark)or\n",
    "    #Check Cols\n",
    "    (board[1] ==mark and board[4] == mark and board[7]==mark) or\n",
    "    (board[2] ==mark and board[5] == mark and board[8]==mark) or\n",
    "    (board[3] ==mark and board[6] == mark and board[9]==mark) or\n",
    "    # 2 Diagnols \n",
    "    (board[1] ==mark and board[5] == mark and board[9]==mark) or\n",
    "    (board[7] ==mark and board[5] == mark and board[3]==mark))"
   ]
  },
  {
   "cell_type": "markdown",
   "id": "c1806303",
   "metadata": {},
   "source": [
    "# Function: Randomly decide which player go first"
   ]
  },
  {
   "cell_type": "code",
   "execution_count": 5,
   "id": "804ded2f",
   "metadata": {},
   "outputs": [],
   "source": [
    "import random\n",
    "def choose_first():\n",
    "    flip= random.randint(0,1)\n",
    "    if flip== 0:\n",
    "        return 'Player 1'\n",
    "    else:\n",
    "        return 'Player 2'"
   ]
  },
  {
   "cell_type": "markdown",
   "id": "aded415c",
   "metadata": {},
   "source": [
    "# Function: return a boolean to see if space on the board is available"
   ]
  },
  {
   "cell_type": "code",
   "execution_count": 6,
   "id": "9e76ded4",
   "metadata": {},
   "outputs": [],
   "source": [
    "def space_check (board, position): \n",
    "    return board[position]== ' '"
   ]
  },
  {
   "cell_type": "markdown",
   "id": "7a43ae28",
   "metadata": {},
   "source": [
    "# Function:\n",
    "if the board is full"
   ]
  },
  {
   "cell_type": "code",
   "execution_count": 7,
   "id": "b729ee1f",
   "metadata": {},
   "outputs": [],
   "source": [
    "def full_board_check(board):\n",
    "    for i in range(1,10):\n",
    "        if space_check(board,i):\n",
    "            return False\n",
    "    return True"
   ]
  },
  {
   "cell_type": "markdown",
   "id": "1af03f76",
   "metadata": {},
   "source": [
    "# Function:\n",
    "    Ask for player's next Postion;\n",
    "    Check if the position is empty;\n",
    "    "
   ]
  },
  {
   "cell_type": "code",
   "execution_count": 8,
   "id": "58bc6c63",
   "metadata": {},
   "outputs": [],
   "source": [
    "def player_choice(board):\n",
    "    position = 0\n",
    "    while position not in range(1,10) or not space_check(board, position):\n",
    "        position = int(input(\"Choose position: 1-9\"))\n",
    "    return position\n",
    "    "
   ]
  },
  {
   "cell_type": "markdown",
   "id": "d9fee8bd",
   "metadata": {},
   "source": [
    "# Function:\n",
    "    Ask Player if they want to play"
   ]
  },
  {
   "cell_type": "code",
   "execution_count": 9,
   "id": "f335dfc9",
   "metadata": {},
   "outputs": [],
   "source": [
    "def replay():\n",
    "    choice = input(\"Play again? Yes or NO \")\n",
    "    return choice == 'Yes '\n",
    "    "
   ]
  },
  {
   "cell_type": "markdown",
   "id": "a3316b96",
   "metadata": {},
   "source": [
    "# Final Block of Code:\n",
    "    Compile all the functions "
   ]
  },
  {
   "cell_type": "code",
   "execution_count": null,
   "id": "a8d781c6",
   "metadata": {},
   "outputs": [
    {
     "name": "stdout",
     "output_type": "stream",
     "text": [
      "Welcome to the GAME!!\n",
      "Player 1: Choose X or O: 4\n"
     ]
    }
   ],
   "source": [
    "# While loop to keep running the game\n",
    "print ('Welcome to the GAME!!')\n",
    "\n",
    "while True:\n",
    "    #Play the game\n",
    "    # Setup (board: Who is first: choice of makers)\n",
    "    the_board= [' ']*10\n",
    "    player1_marker,player2_marker = player_input()\n",
    "    \n",
    "    turn = choose_first()\n",
    "    print(turn + \" will go first\")\n",
    "    \n",
    "    play_game =input(\"Ready to Play? y or n? \")\n",
    "    if play_game == 'y':\n",
    "        game_on = True\n",
    "    else:\n",
    "        game_on = False\n",
    "    \n",
    "    # game Play\n",
    "    #Player 1\n",
    "    while game_on:\n",
    "        if turn == 'Player 1':\n",
    "            #show the board\n",
    "            display_board(the_board)\n",
    "            \n",
    "            # choose position\n",
    "            position = player_choice(the_board)\n",
    "            \n",
    "            # place marker on posotion\n",
    "            place_marker(the_board,player1_marker,position)\n",
    "            \n",
    "            # check if they won\n",
    "            if win_check(the_board,player1_marker):\n",
    "                display_board(the_board)\n",
    "                print(\"Player 1 has WON!!!!!\")\n",
    "                game_on= False\n",
    "                \n",
    "                # If its a Tie\n",
    "            else:\n",
    "                if full_board_check(the_board):\n",
    "                    display_board(the_board)\n",
    "                    print(\"Its a TIE \") \n",
    "                    game_on = False\n",
    "                # if no tie no win: player 2 turn\n",
    "                else:\n",
    "                    turn ='Player 2'\n",
    "        \n",
    "        # Player 2\n",
    "        else:\n",
    "            display_board(the_board)\n",
    "            # choose posotion\n",
    "            position=player_choice(the_board)\n",
    "            # place marker on posotion\n",
    "            place_marker(the_board,player2_marker,position)\n",
    "            # check if they won\n",
    "            if win_check(the_board,player2_marker):\n",
    "                display_board(the_board)\n",
    "                print(\"Player 2 has WON!!!!!\")\n",
    "                game_on= False\n",
    "            else:\n",
    "                if full_board_check(the_board):\n",
    "                    display_board(the_board)\n",
    "                    print(\"Its a TIE \") \n",
    "                    game_on = False  \n",
    "                else:\n",
    "                    turn ='Player 1'\n",
    "   \n",
    "\n",
    "    if not replay():\n",
    "        break\n",
    "\n",
    "# Break of while loop  on replay()"
   ]
  },
  {
   "cell_type": "code",
   "execution_count": null,
   "id": "2d2c8f54",
   "metadata": {},
   "outputs": [],
   "source": []
  },
  {
   "cell_type": "code",
   "execution_count": null,
   "id": "1eedb681",
   "metadata": {},
   "outputs": [],
   "source": []
  }
 ],
 "metadata": {
  "kernelspec": {
   "display_name": "Python 3",
   "language": "python",
   "name": "python3"
  },
  "language_info": {
   "codemirror_mode": {
    "name": "ipython",
    "version": 3
   },
   "file_extension": ".py",
   "mimetype": "text/x-python",
   "name": "python",
   "nbconvert_exporter": "python",
   "pygments_lexer": "ipython3",
   "version": "3.8.8"
  }
 },
 "nbformat": 4,
 "nbformat_minor": 5
}
